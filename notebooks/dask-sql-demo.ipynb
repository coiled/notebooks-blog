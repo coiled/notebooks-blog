{
 "cells": [
  {
   "cell_type": "markdown",
   "metadata": {},
   "source": [
    "# Getting started with dask-sql, Dask, and Coiled\n",
    "\n",
    "Lots of people talk about \"democratizing\" data (and ML/AI, etc.) and what could be more democratic -- in the sense of widely accessible -- than SQL & PyData? (except maybe Microsoft Excel 😀)\n",
    "\n",
    "In this notebook, we look at `dask-sql`, an exciting new open-source library that offers a SQL front-end to Dask. Follow along on Coiled Cloud with this notebook. [Maybe add a \"tile\" to the Coiled launcher for this? Otherwise add a link. You may want to host it on coiled.io rather than in my personal S3 bucket]"
   ]
  },
  {
   "cell_type": "markdown",
   "metadata": {},
   "source": [
    "### Launch a cluster\n",
    "\n",
    "`dask-sql` is free + open source and will work with any Dask cluster, so you can run this (with minimal modification) on any environment. That said, the easiest way to spin up a cluster in the cloud is with Coiled [insert additional marketing verbage here]\n",
    "\n",
    "If you haven't signed up for the Coiled beta, you can do so for free with just a Github or Google ID at https://coiled.io"
   ]
  },
  {
   "cell_type": "code",
   "execution_count": 3,
   "metadata": {},
   "outputs": [
    {
     "name": "stderr",
     "output_type": "stream",
     "text": [
      "/opt/conda/lib/python3.8/site-packages/distributed/client.py:1130: VersionMismatchWarning: Mismatched versions found\n",
      "\n",
      "+-------------+--------+-----------+---------+\n",
      "| Package     | client | scheduler | workers |\n",
      "+-------------+--------+-----------+---------+\n",
      "| blosc       | None   | 1.9.2     | 1.9.2   |\n",
      "| dask        | 2.28.0 | 2.29.0    | 2.29.0  |\n",
      "| distributed | 2.28.0 | 2.29.0    | 2.29.0  |\n",
      "| lz4         | None   | 3.1.0     | 3.1.0   |\n",
      "+-------------+--------+-----------+---------+\n",
      "  warnings.warn(version_module.VersionMismatchWarning(msg[0][\"warning\"]))\n"
     ]
    }
   ],
   "source": [
    "import coiled\n",
    "from dask.distributed import Client\n",
    "\n",
    "cluster = coiled.Cluster(n_workers=20)\n",
    "client = Client(cluster)"
   ]
  },
  {
   "cell_type": "code",
   "execution_count": 4,
   "metadata": {},
   "outputs": [
    {
     "data": {
      "text/html": [
       "<table style=\"border: 2px solid white;\">\n",
       "<tr>\n",
       "<td style=\"vertical-align: top; border: 0px solid white\">\n",
       "<h3 style=\"text-align: left;\">Client</h3>\n",
       "<ul style=\"text-align: left; list-style: none; margin: 0; padding: 0;\">\n",
       "  <li><b>Scheduler: </b>tls://ec2-3-21-129-247.us-east-2.compute.amazonaws.com:8786</li>\n",
       "  <li><b>Dashboard: </b><a href='https://cloud.coiled.io/dashboard/1860/status' target='_blank'>https://cloud.coiled.io/dashboard/1860/status</a></li>\n",
       "</ul>\n",
       "</td>\n",
       "<td style=\"vertical-align: top; border: 0px solid white\">\n",
       "<h3 style=\"text-align: left;\">Cluster</h3>\n",
       "<ul style=\"text-align: left; list-style:none; margin: 0; padding: 0;\">\n",
       "  <li><b>Workers: </b>10</li>\n",
       "  <li><b>Cores: </b>40</li>\n",
       "  <li><b>Memory: </b>171.80 GB</li>\n",
       "</ul>\n",
       "</td>\n",
       "</tr>\n",
       "</table>"
      ],
      "text/plain": [
       "<Client: 'tls://10.2.13.125:8786' processes=9 threads=36, memory=154.62 GB>"
      ]
     },
     "execution_count": 4,
     "metadata": {},
     "output_type": "execute_result"
    }
   ],
   "source": [
    "client"
   ]
  },
  {
   "cell_type": "markdown",
   "metadata": {},
   "source": [
    "Next, we'll install `dask-sql`. It's a simple install but may take a minute or two."
   ]
  },
  {
   "cell_type": "code",
   "execution_count": null,
   "metadata": {},
   "outputs": [],
   "source": [
    "#! conda install -y dask-sql -c conda-forge"
   ]
  },
  {
   "cell_type": "markdown",
   "metadata": {},
   "source": [
    "### Analyze data in the cloud"
   ]
  },
  {
   "cell_type": "markdown",
   "metadata": {},
   "source": [
    "At this point, we're ready to start querying data!\n",
    "\n",
    "Before we run our first SQL query, let's test things out with a variant of the \"starter\" query from Coiled Cloud's Quickstart notebook. \n",
    "    \n",
    "* This query calculates average tip amount by passenger count for the 2019 records in the NYC taxicab dataset.\n",
    "\n",
    "Then we'll try it again in SQL."
   ]
  },
  {
   "cell_type": "code",
   "execution_count": 24,
   "metadata": {},
   "outputs": [
    {
     "data": {
      "text/plain": [
       "passenger_count\n",
       "0    2.122789\n",
       "1    2.206790\n",
       "2    2.214306\n",
       "3    2.137775\n",
       "4    2.023804\n",
       "5    2.235441\n",
       "6    2.221105\n",
       "7    6.675962\n",
       "8    7.111625\n",
       "9    7.377822\n",
       "Name: tip_amount, dtype: float64"
      ]
     },
     "execution_count": 24,
     "metadata": {},
     "output_type": "execute_result"
    }
   ],
   "source": [
    "import dask.dataframe as dd\n",
    "\n",
    "df = dd.read_csv(\n",
    "    \"s3://nyc-tlc/trip data/yellow_tripdata_2019-*.csv\",\n",
    "    dtype={\n",
    "        \"payment_type\": \"UInt8\",\n",
    "        \"VendorID\": \"UInt8\",\n",
    "        \"passenger_count\": \"UInt8\",\n",
    "        \"RatecodeID\": \"UInt8\",\n",
    "    },\n",
    "    storage_options={\"anon\": True}\n",
    ")\n",
    "\n",
    "\n",
    "df.groupby(\"passenger_count\").tip_amount.mean().compute()"
   ]
  },
  {
   "cell_type": "markdown",
   "metadata": {},
   "source": [
    "Great!\n",
    "\n",
    "Our cluster and code are running. \n",
    "\n",
    "### Now let's try some SQL!\n",
    "\n",
    "`dask-sql` uses some code to \"automagically\" locate the JVM shared library we'll need, but it doesn't find the right path here in this cloud-deployed Jupyter container. We'll give it a hint:"
   ]
  },
  {
   "cell_type": "code",
   "execution_count": 6,
   "metadata": {},
   "outputs": [],
   "source": [
    "import os\n",
    "os.environ[\"JAVA_HOME\"] = \"/opt/conda/lib/server\""
   ]
  },
  {
   "cell_type": "markdown",
   "metadata": {},
   "source": [
    "> __Wait! What?! Java!?__\n",
    ">\n",
    "> What's going on here?\n",
    "> \n",
    "> Dask-sql uses a well-established Java library, Apache Calcite, to parse the SQL and perform some initial work on your query. More on this later. It's a good thing, because it means that dask-sql isn't reinventing yet another query parser and optimizer, although it does create a dependency on the JVM."
   ]
  },
  {
   "cell_type": "code",
   "execution_count": 7,
   "metadata": {},
   "outputs": [],
   "source": [
    "from dask_sql import Context\n",
    "\n",
    "c = Context()"
   ]
  },
  {
   "cell_type": "markdown",
   "metadata": {},
   "source": [
    "This `Context` instance will let us run queries ... but first we need some data sources.\n",
    "\n",
    "There are a number of ways to define data sources with `dask-sql` but one of the simplest is to supply a Dask Dataframe as the source. The Dask Dataframe\n",
    "* is lazy, so it doesn't retrieve the data until needed\n",
    "* can discover the data schema\n",
    "* supports out-of-core access -- a fancy way of saying it *does not* need to actually load the data up into memory (e.g., maybe the data doesn't fit in memory, or maybe you want that memory for other computations)\n",
    "* knows how to retrieve the data from the underlying source (e.g., \"CSV files in S3\")\n",
    "\n",
    "Here's the dataframe we defined above:"
   ]
  },
  {
   "cell_type": "code",
   "execution_count": 8,
   "metadata": {},
   "outputs": [
    {
     "data": {
      "text/html": [
       "<div><strong>Dask DataFrame Structure:</strong></div>\n",
       "<div>\n",
       "<style scoped>\n",
       "    .dataframe tbody tr th:only-of-type {\n",
       "        vertical-align: middle;\n",
       "    }\n",
       "\n",
       "    .dataframe tbody tr th {\n",
       "        vertical-align: top;\n",
       "    }\n",
       "\n",
       "    .dataframe thead th {\n",
       "        text-align: right;\n",
       "    }\n",
       "</style>\n",
       "<table border=\"1\" class=\"dataframe\">\n",
       "  <thead>\n",
       "    <tr style=\"text-align: right;\">\n",
       "      <th></th>\n",
       "      <th>VendorID</th>\n",
       "      <th>tpep_pickup_datetime</th>\n",
       "      <th>tpep_dropoff_datetime</th>\n",
       "      <th>passenger_count</th>\n",
       "      <th>trip_distance</th>\n",
       "      <th>RatecodeID</th>\n",
       "      <th>store_and_fwd_flag</th>\n",
       "      <th>PULocationID</th>\n",
       "      <th>DOLocationID</th>\n",
       "      <th>payment_type</th>\n",
       "      <th>fare_amount</th>\n",
       "      <th>extra</th>\n",
       "      <th>mta_tax</th>\n",
       "      <th>tip_amount</th>\n",
       "      <th>tolls_amount</th>\n",
       "      <th>improvement_surcharge</th>\n",
       "      <th>total_amount</th>\n",
       "      <th>congestion_surcharge</th>\n",
       "    </tr>\n",
       "    <tr>\n",
       "      <th>npartitions=127</th>\n",
       "      <th></th>\n",
       "      <th></th>\n",
       "      <th></th>\n",
       "      <th></th>\n",
       "      <th></th>\n",
       "      <th></th>\n",
       "      <th></th>\n",
       "      <th></th>\n",
       "      <th></th>\n",
       "      <th></th>\n",
       "      <th></th>\n",
       "      <th></th>\n",
       "      <th></th>\n",
       "      <th></th>\n",
       "      <th></th>\n",
       "      <th></th>\n",
       "      <th></th>\n",
       "      <th></th>\n",
       "    </tr>\n",
       "  </thead>\n",
       "  <tbody>\n",
       "    <tr>\n",
       "      <th></th>\n",
       "      <td>UInt8</td>\n",
       "      <td>object</td>\n",
       "      <td>object</td>\n",
       "      <td>UInt8</td>\n",
       "      <td>float64</td>\n",
       "      <td>UInt8</td>\n",
       "      <td>object</td>\n",
       "      <td>int64</td>\n",
       "      <td>int64</td>\n",
       "      <td>UInt8</td>\n",
       "      <td>float64</td>\n",
       "      <td>float64</td>\n",
       "      <td>float64</td>\n",
       "      <td>float64</td>\n",
       "      <td>float64</td>\n",
       "      <td>float64</td>\n",
       "      <td>float64</td>\n",
       "      <td>float64</td>\n",
       "    </tr>\n",
       "    <tr>\n",
       "      <th></th>\n",
       "      <td>...</td>\n",
       "      <td>...</td>\n",
       "      <td>...</td>\n",
       "      <td>...</td>\n",
       "      <td>...</td>\n",
       "      <td>...</td>\n",
       "      <td>...</td>\n",
       "      <td>...</td>\n",
       "      <td>...</td>\n",
       "      <td>...</td>\n",
       "      <td>...</td>\n",
       "      <td>...</td>\n",
       "      <td>...</td>\n",
       "      <td>...</td>\n",
       "      <td>...</td>\n",
       "      <td>...</td>\n",
       "      <td>...</td>\n",
       "      <td>...</td>\n",
       "    </tr>\n",
       "    <tr>\n",
       "      <th>...</th>\n",
       "      <td>...</td>\n",
       "      <td>...</td>\n",
       "      <td>...</td>\n",
       "      <td>...</td>\n",
       "      <td>...</td>\n",
       "      <td>...</td>\n",
       "      <td>...</td>\n",
       "      <td>...</td>\n",
       "      <td>...</td>\n",
       "      <td>...</td>\n",
       "      <td>...</td>\n",
       "      <td>...</td>\n",
       "      <td>...</td>\n",
       "      <td>...</td>\n",
       "      <td>...</td>\n",
       "      <td>...</td>\n",
       "      <td>...</td>\n",
       "      <td>...</td>\n",
       "    </tr>\n",
       "    <tr>\n",
       "      <th></th>\n",
       "      <td>...</td>\n",
       "      <td>...</td>\n",
       "      <td>...</td>\n",
       "      <td>...</td>\n",
       "      <td>...</td>\n",
       "      <td>...</td>\n",
       "      <td>...</td>\n",
       "      <td>...</td>\n",
       "      <td>...</td>\n",
       "      <td>...</td>\n",
       "      <td>...</td>\n",
       "      <td>...</td>\n",
       "      <td>...</td>\n",
       "      <td>...</td>\n",
       "      <td>...</td>\n",
       "      <td>...</td>\n",
       "      <td>...</td>\n",
       "      <td>...</td>\n",
       "    </tr>\n",
       "    <tr>\n",
       "      <th></th>\n",
       "      <td>...</td>\n",
       "      <td>...</td>\n",
       "      <td>...</td>\n",
       "      <td>...</td>\n",
       "      <td>...</td>\n",
       "      <td>...</td>\n",
       "      <td>...</td>\n",
       "      <td>...</td>\n",
       "      <td>...</td>\n",
       "      <td>...</td>\n",
       "      <td>...</td>\n",
       "      <td>...</td>\n",
       "      <td>...</td>\n",
       "      <td>...</td>\n",
       "      <td>...</td>\n",
       "      <td>...</td>\n",
       "      <td>...</td>\n",
       "      <td>...</td>\n",
       "    </tr>\n",
       "  </tbody>\n",
       "</table>\n",
       "</div>\n",
       "<div>Dask Name: read-csv, 127 tasks</div>"
      ],
      "text/plain": [
       "Dask DataFrame Structure:\n",
       "                VendorID tpep_pickup_datetime tpep_dropoff_datetime passenger_count trip_distance RatecodeID store_and_fwd_flag PULocationID DOLocationID payment_type fare_amount    extra  mta_tax tip_amount tolls_amount improvement_surcharge total_amount congestion_surcharge\n",
       "npartitions=127                                                                                                                                                                                                                                                                     \n",
       "                   UInt8               object                object           UInt8       float64      UInt8             object        int64        int64        UInt8     float64  float64  float64    float64      float64               float64      float64              float64\n",
       "                     ...                  ...                   ...             ...           ...        ...                ...          ...          ...          ...         ...      ...      ...        ...          ...                   ...          ...                  ...\n",
       "...                  ...                  ...                   ...             ...           ...        ...                ...          ...          ...          ...         ...      ...      ...        ...          ...                   ...          ...                  ...\n",
       "                     ...                  ...                   ...             ...           ...        ...                ...          ...          ...          ...         ...      ...      ...        ...          ...                   ...          ...                  ...\n",
       "                     ...                  ...                   ...             ...           ...        ...                ...          ...          ...          ...         ...      ...      ...        ...          ...                   ...          ...                  ...\n",
       "Dask Name: read-csv, 127 tasks"
      ]
     },
     "execution_count": 8,
     "metadata": {},
     "output_type": "execute_result"
    }
   ],
   "source": [
    "df"
   ]
  },
  {
   "cell_type": "markdown",
   "metadata": {},
   "source": [
    "We can assign a table name to this dataframe, and then use that table name within SQL queries.\n",
    "\n",
    "The following code\n",
    "1. associates the table name `taxi` with `df`\n",
    "2. creates a query to count the rows in this table\n",
    "3. returns a handle to a *lazy resultset in the form of a Dask dataframe*"
   ]
  },
  {
   "cell_type": "code",
   "execution_count": 9,
   "metadata": {},
   "outputs": [
    {
     "data": {
      "text/html": [
       "<div><strong>Dask DataFrame Structure:</strong></div>\n",
       "<div>\n",
       "<style scoped>\n",
       "    .dataframe tbody tr th:only-of-type {\n",
       "        vertical-align: middle;\n",
       "    }\n",
       "\n",
       "    .dataframe tbody tr th {\n",
       "        vertical-align: top;\n",
       "    }\n",
       "\n",
       "    .dataframe thead th {\n",
       "        text-align: right;\n",
       "    }\n",
       "</style>\n",
       "<table border=\"1\" class=\"dataframe\">\n",
       "  <thead>\n",
       "    <tr style=\"text-align: right;\">\n",
       "      <th></th>\n",
       "      <th>COUNT(1)</th>\n",
       "    </tr>\n",
       "    <tr>\n",
       "      <th>npartitions=1</th>\n",
       "      <th></th>\n",
       "    </tr>\n",
       "  </thead>\n",
       "  <tbody>\n",
       "    <tr>\n",
       "      <th></th>\n",
       "      <td>int64</td>\n",
       "    </tr>\n",
       "    <tr>\n",
       "      <th></th>\n",
       "      <td>...</td>\n",
       "    </tr>\n",
       "  </tbody>\n",
       "</table>\n",
       "</div>\n",
       "<div>Dask Name: getitem, 1930 tasks</div>"
      ],
      "text/plain": [
       "Dask DataFrame Structure:\n",
       "              COUNT(1)\n",
       "npartitions=1         \n",
       "                 int64\n",
       "                   ...\n",
       "Dask Name: getitem, 1930 tasks"
      ]
     },
     "execution_count": 9,
     "metadata": {},
     "output_type": "execute_result"
    }
   ],
   "source": [
    "c.register_dask_table(df, \"taxi\")\n",
    "\n",
    "result = c.sql('SELECT count(1) FROM taxi')\n",
    "\n",
    "result"
   ]
  },
  {
   "cell_type": "markdown",
   "metadata": {},
   "source": [
    "In almost all cases, running `c.sql(...)` will *not* actually run the full query, but just produces a Dask dataframe handle representing the results. (There are a couple of edge cases in the dask-sql docs that do trigger an immediate computation today, but the long term goal is to make as much lazy as possible.)\n",
    "\n",
    "How do we get our actual rowcount out? The same way we evaluate any other small Dask result that we want to retrieve: via `.compute()`"
   ]
  },
  {
   "cell_type": "code",
   "execution_count": 10,
   "metadata": {},
   "outputs": [
    {
     "data": {
      "text/html": [
       "<div>\n",
       "<style scoped>\n",
       "    .dataframe tbody tr th:only-of-type {\n",
       "        vertical-align: middle;\n",
       "    }\n",
       "\n",
       "    .dataframe tbody tr th {\n",
       "        vertical-align: top;\n",
       "    }\n",
       "\n",
       "    .dataframe thead th {\n",
       "        text-align: right;\n",
       "    }\n",
       "</style>\n",
       "<table border=\"1\" class=\"dataframe\">\n",
       "  <thead>\n",
       "    <tr style=\"text-align: right;\">\n",
       "      <th></th>\n",
       "      <th>COUNT(1)</th>\n",
       "    </tr>\n",
       "  </thead>\n",
       "  <tbody>\n",
       "    <tr>\n",
       "      <th>0</th>\n",
       "      <td>84399019</td>\n",
       "    </tr>\n",
       "  </tbody>\n",
       "</table>\n",
       "</div>"
      ],
      "text/plain": [
       "   COUNT(1)\n",
       "0  84399019"
      ]
     },
     "execution_count": 10,
     "metadata": {},
     "output_type": "execute_result"
    }
   ],
   "source": [
    "result.compute()"
   ]
  },
  {
   "cell_type": "markdown",
   "metadata": {},
   "source": [
    "Ok, we've run our first `dask-sql` query and gotten results back!\n",
    "\n",
    "### Speed Test\n",
    "\n",
    "Now let's revisit the \"starter query\" -- the one that calculates average tip amount by passenger count. \n",
    "\n",
    "We have two goals here:\n",
    "* Write the same query in Dask/Python and in SQL, and see that they work and product the same results\n",
    "* Time the execution, to verify that SQL does not add any significant performance overhead\n",
    "    * The SQL query gets processed and converted for Dask just once no matter how much data is involved, so it should not add any cost for nontrivial datasets\n",
    "    \n",
    "> If you're trying this out, this is also a great time to view the Dask task stream dashboard, to see the cluster in action. You can do this via the JupyterLab extension or through the Coiled Cloud GUI."
   ]
  },
  {
   "cell_type": "code",
   "execution_count": 26,
   "metadata": {},
   "outputs": [
    {
     "name": "stdout",
     "output_type": "stream",
     "text": [
      "CPU times: user 107 ms, sys: 1.18 ms, total: 108 ms\n",
      "Wall time: 26.7 s\n"
     ]
    },
    {
     "data": {
      "text/plain": [
       "passenger_count\n",
       "0    2.122789\n",
       "1    2.206790\n",
       "2    2.214306\n",
       "3    2.137775\n",
       "4    2.023804\n",
       "5    2.235441\n",
       "6    2.221105\n",
       "7    6.675962\n",
       "8    7.111625\n",
       "9    7.377822\n",
       "Name: tip_amount, dtype: float64"
      ]
     },
     "execution_count": 26,
     "metadata": {},
     "output_type": "execute_result"
    }
   ],
   "source": [
    "%%time\n",
    "\n",
    "df.groupby(\"passenger_count\").tip_amount.mean().compute()"
   ]
  },
  {
   "cell_type": "code",
   "execution_count": 27,
   "metadata": {},
   "outputs": [
    {
     "name": "stdout",
     "output_type": "stream",
     "text": [
      "CPU times: user 267 ms, sys: 8.7 ms, total: 276 ms\n",
      "Wall time: 24.7 s\n"
     ]
    },
    {
     "data": {
      "text/html": [
       "<div>\n",
       "<style scoped>\n",
       "    .dataframe tbody tr th:only-of-type {\n",
       "        vertical-align: middle;\n",
       "    }\n",
       "\n",
       "    .dataframe tbody tr th {\n",
       "        vertical-align: top;\n",
       "    }\n",
       "\n",
       "    .dataframe thead th {\n",
       "        text-align: right;\n",
       "    }\n",
       "</style>\n",
       "<table border=\"1\" class=\"dataframe\">\n",
       "  <thead>\n",
       "    <tr style=\"text-align: right;\">\n",
       "      <th></th>\n",
       "      <th>AVG(\"taxi\".\"tip_amount\")</th>\n",
       "    </tr>\n",
       "  </thead>\n",
       "  <tbody>\n",
       "    <tr>\n",
       "      <th>0</th>\n",
       "      <td>2.122789</td>\n",
       "    </tr>\n",
       "    <tr>\n",
       "      <th>1</th>\n",
       "      <td>2.206790</td>\n",
       "    </tr>\n",
       "    <tr>\n",
       "      <th>2</th>\n",
       "      <td>2.214306</td>\n",
       "    </tr>\n",
       "    <tr>\n",
       "      <th>3</th>\n",
       "      <td>2.137775</td>\n",
       "    </tr>\n",
       "    <tr>\n",
       "      <th>4</th>\n",
       "      <td>2.023804</td>\n",
       "    </tr>\n",
       "    <tr>\n",
       "      <th>5</th>\n",
       "      <td>2.235441</td>\n",
       "    </tr>\n",
       "    <tr>\n",
       "      <th>6</th>\n",
       "      <td>2.221105</td>\n",
       "    </tr>\n",
       "    <tr>\n",
       "      <th>7</th>\n",
       "      <td>6.675962</td>\n",
       "    </tr>\n",
       "    <tr>\n",
       "      <th>8</th>\n",
       "      <td>7.111625</td>\n",
       "    </tr>\n",
       "    <tr>\n",
       "      <th>9</th>\n",
       "      <td>7.377822</td>\n",
       "    </tr>\n",
       "  </tbody>\n",
       "</table>\n",
       "</div>"
      ],
      "text/plain": [
       "   AVG(\"taxi\".\"tip_amount\")\n",
       "0                  2.122789\n",
       "1                  2.206790\n",
       "2                  2.214306\n",
       "3                  2.137775\n",
       "4                  2.023804\n",
       "5                  2.235441\n",
       "6                  2.221105\n",
       "7                  6.675962\n",
       "8                  7.111625\n",
       "9                  7.377822"
      ]
     },
     "execution_count": 27,
     "metadata": {},
     "output_type": "execute_result"
    }
   ],
   "source": [
    "%%time\n",
    "\n",
    "c.sql('SELECT avg(tip_amount) FROM taxi GROUP BY passenger_count').compute()"
   ]
  },
  {
   "cell_type": "markdown",
   "metadata": {},
   "source": [
    "#### What is the takeaway?\n",
    "\n",
    "You should see identical output. Moreover, you should see near identical wall-clock time. The SQL processing adds 100ms or less, and is a constant, one-time cost.\n",
    "\n",
    "## SQL + Cached data = turbocharged analytics\n",
    "\n",
    "Let's see how we can accelerate analytics by caching this dataset in our cluster, and then running SQL queries against that cached data.\n",
    "\n",
    "This isn't just fast, it's whole-team-friendly because \n",
    "* we can expose this dataset to other Dask analysts, incentivizing sharing a \"large RAM pool\" cluster for analytics over the data\n",
    "* `dask-sql` exposes the __Presto__ wire protocol, so folks using Presto compatible clients or visualization tools can access this data with zero programming!\n",
    "\n",
    "First, we'll ask Dask to cache the table..."
   ]
  },
  {
   "cell_type": "code",
   "execution_count": 13,
   "metadata": {},
   "outputs": [],
   "source": [
    "dfp = df.persist()"
   ]
  },
  {
   "cell_type": "markdown",
   "metadata": {},
   "source": [
    "It may take a few seconds (or a lot more for really big datasets) to get loaded into cluster RAM. \n",
    "\n",
    "We can watch blocks load up in realtime in the Dask Graph dashboard. This shows tasks turn green as they compute and then red as the results are loaded in memory. In this case, each task retrieves a partition of the data from S3.\n",
    "\n",
    "In other situations, we may not want to watch a GUI, but programmatically wait for the data to be loaded. \n",
    "\n",
    "We can do that using `distributed.wait(...)`:"
   ]
  },
  {
   "cell_type": "code",
   "execution_count": 14,
   "metadata": {},
   "outputs": [],
   "source": [
    "import distributed"
   ]
  },
  {
   "cell_type": "code",
   "execution_count": 15,
   "metadata": {},
   "outputs": [
    {
     "name": "stdout",
     "output_type": "stream",
     "text": [
      "cached 127 results\n"
     ]
    }
   ],
   "source": [
    "cached_tasks = distributed.wait(dfp)\n",
    "print(f'cached {len(cached_tasks[0])} results')"
   ]
  },
  {
   "cell_type": "markdown",
   "metadata": {},
   "source": [
    "Next, we'll give a new table name to this new cached flavor of the dataset (the `dfp` to which we assigned the result of `df.persist` above).\n",
    "\n",
    "`dfp` is a little opaque, so we'll name this table `taxi_cached`"
   ]
  },
  {
   "cell_type": "code",
   "execution_count": 16,
   "metadata": {},
   "outputs": [],
   "source": [
    "c.register_dask_table(dfp, \"taxi_cached\")"
   ]
  },
  {
   "cell_type": "markdown",
   "metadata": {},
   "source": [
    "As a quick test to see how much faster it is working out of memory, let's count the rows again."
   ]
  },
  {
   "cell_type": "code",
   "execution_count": 17,
   "metadata": {},
   "outputs": [
    {
     "data": {
      "text/html": [
       "<div>\n",
       "<style scoped>\n",
       "    .dataframe tbody tr th:only-of-type {\n",
       "        vertical-align: middle;\n",
       "    }\n",
       "\n",
       "    .dataframe tbody tr th {\n",
       "        vertical-align: top;\n",
       "    }\n",
       "\n",
       "    .dataframe thead th {\n",
       "        text-align: right;\n",
       "    }\n",
       "</style>\n",
       "<table border=\"1\" class=\"dataframe\">\n",
       "  <thead>\n",
       "    <tr style=\"text-align: right;\">\n",
       "      <th></th>\n",
       "      <th>COUNT(1)</th>\n",
       "    </tr>\n",
       "  </thead>\n",
       "  <tbody>\n",
       "    <tr>\n",
       "      <th>0</th>\n",
       "      <td>84399019</td>\n",
       "    </tr>\n",
       "  </tbody>\n",
       "</table>\n",
       "</div>"
      ],
      "text/plain": [
       "   COUNT(1)\n",
       "0  84399019"
      ]
     },
     "execution_count": 17,
     "metadata": {},
     "output_type": "execute_result"
    }
   ],
   "source": [
    "result = c.sql('SELECT count(1) FROM taxi_cached')\n",
    "result.compute()"
   ]
  },
  {
   "cell_type": "markdown",
   "metadata": {},
   "source": [
    "Let's also try that average tip by passenger count query, this time from cache."
   ]
  },
  {
   "cell_type": "code",
   "execution_count": 18,
   "metadata": {},
   "outputs": [
    {
     "name": "stdout",
     "output_type": "stream",
     "text": [
      "CPU times: user 196 ms, sys: 0 ns, total: 196 ms\n",
      "Wall time: 1.77 s\n"
     ]
    },
    {
     "data": {
      "text/html": [
       "<div>\n",
       "<style scoped>\n",
       "    .dataframe tbody tr th:only-of-type {\n",
       "        vertical-align: middle;\n",
       "    }\n",
       "\n",
       "    .dataframe tbody tr th {\n",
       "        vertical-align: top;\n",
       "    }\n",
       "\n",
       "    .dataframe thead th {\n",
       "        text-align: right;\n",
       "    }\n",
       "</style>\n",
       "<table border=\"1\" class=\"dataframe\">\n",
       "  <thead>\n",
       "    <tr style=\"text-align: right;\">\n",
       "      <th></th>\n",
       "      <th>AVG(\"taxi_cached\".\"tip_amount\")</th>\n",
       "    </tr>\n",
       "  </thead>\n",
       "  <tbody>\n",
       "    <tr>\n",
       "      <th>0</th>\n",
       "      <td>2.122789</td>\n",
       "    </tr>\n",
       "    <tr>\n",
       "      <th>1</th>\n",
       "      <td>2.206790</td>\n",
       "    </tr>\n",
       "    <tr>\n",
       "      <th>2</th>\n",
       "      <td>2.214306</td>\n",
       "    </tr>\n",
       "    <tr>\n",
       "      <th>3</th>\n",
       "      <td>2.137775</td>\n",
       "    </tr>\n",
       "    <tr>\n",
       "      <th>4</th>\n",
       "      <td>2.023804</td>\n",
       "    </tr>\n",
       "    <tr>\n",
       "      <th>5</th>\n",
       "      <td>2.235441</td>\n",
       "    </tr>\n",
       "    <tr>\n",
       "      <th>6</th>\n",
       "      <td>2.221105</td>\n",
       "    </tr>\n",
       "    <tr>\n",
       "      <th>7</th>\n",
       "      <td>6.675962</td>\n",
       "    </tr>\n",
       "    <tr>\n",
       "      <th>8</th>\n",
       "      <td>7.111625</td>\n",
       "    </tr>\n",
       "    <tr>\n",
       "      <th>9</th>\n",
       "      <td>7.377822</td>\n",
       "    </tr>\n",
       "  </tbody>\n",
       "</table>\n",
       "</div>"
      ],
      "text/plain": [
       "   AVG(\"taxi_cached\".\"tip_amount\")\n",
       "0                         2.122789\n",
       "1                         2.206790\n",
       "2                         2.214306\n",
       "3                         2.137775\n",
       "4                         2.023804\n",
       "5                         2.235441\n",
       "6                         2.221105\n",
       "7                         6.675962\n",
       "8                         7.111625\n",
       "9                         7.377822"
      ]
     },
     "execution_count": 18,
     "metadata": {},
     "output_type": "execute_result"
    }
   ],
   "source": [
    "%%time\n",
    "\n",
    "c.sql('SELECT avg(tip_amount) FROM taxi_cached GROUP BY passenger_count').compute()"
   ]
  },
  {
   "cell_type": "markdown",
   "metadata": {},
   "source": [
    "Not surprisingly, since working from the cached data removes most of the I/O, parsing, and ser/de from the job, it runs a lot faster than before.\n",
    "\n",
    "### SQL built-in functions\n",
    "\n",
    "`dask-sql` also exposes a number of helper functions in SQL -- just like traditional relational databases expose helper functions for math, date/time processing, string manipulation, and more.\n",
    "\n",
    "Here's the `floor` function running on a static literal value:"
   ]
  },
  {
   "cell_type": "code",
   "execution_count": 19,
   "metadata": {},
   "outputs": [
    {
     "data": {
      "text/html": [
       "<div>\n",
       "<style scoped>\n",
       "    .dataframe tbody tr th:only-of-type {\n",
       "        vertical-align: middle;\n",
       "    }\n",
       "\n",
       "    .dataframe tbody tr th {\n",
       "        vertical-align: top;\n",
       "    }\n",
       "\n",
       "    .dataframe thead th {\n",
       "        text-align: right;\n",
       "    }\n",
       "</style>\n",
       "<table border=\"1\" class=\"dataframe\">\n",
       "  <thead>\n",
       "    <tr style=\"text-align: right;\">\n",
       "      <th></th>\n",
       "      <th>FLOOR(3.14)</th>\n",
       "    </tr>\n",
       "  </thead>\n",
       "  <tbody>\n",
       "    <tr>\n",
       "      <th>0</th>\n",
       "      <td>3.0</td>\n",
       "    </tr>\n",
       "  </tbody>\n",
       "</table>\n",
       "</div>"
      ],
      "text/plain": [
       "   FLOOR(3.14)\n",
       "0          3.0"
      ]
     },
     "execution_count": 19,
     "metadata": {},
     "output_type": "execute_result"
    }
   ],
   "source": [
    "c.sql('SELECT floor(3.14)').compute()"
   ]
  },
  {
   "cell_type": "markdown",
   "metadata": {},
   "source": [
    "Using `floor` to discretize (or bin) the trip distances, we can look at a coarse-grained average fare for distance buckets.\n",
    "\n",
    "Our next query looks at rides with distances between 0 and 50, splits (`GROUP BY`) the binned (`floor()`) distance, and then for each of those bins, returns the `floor`'ed distance, the average fare, and the number of rides.\n",
    "\n",
    "*Since we know -- based on our query -- that the report output will contain just 50 rows and 3 columns, we can safely `compute` it and get a result locally as a regular Pandas dataframe. If our result were much larger -- or an intermediate transformation that we want to use in subsequent operations -- we would either write it to persistent storage, or keep the result in the cluster. After all, a big dataset will not fit in our local process, where the Dask `Client` and `dask-sql` `Context` objects live.*"
   ]
  },
  {
   "cell_type": "code",
   "execution_count": 20,
   "metadata": {},
   "outputs": [
    {
     "name": "stdout",
     "output_type": "stream",
     "text": [
      "CPU times: user 710 ms, sys: 8.94 ms, total: 719 ms\n",
      "Wall time: 3.19 s\n"
     ]
    },
    {
     "data": {
      "text/html": [
       "<div>\n",
       "<style scoped>\n",
       "    .dataframe tbody tr th:only-of-type {\n",
       "        vertical-align: middle;\n",
       "    }\n",
       "\n",
       "    .dataframe tbody tr th {\n",
       "        vertical-align: top;\n",
       "    }\n",
       "\n",
       "    .dataframe thead th {\n",
       "        text-align: right;\n",
       "    }\n",
       "</style>\n",
       "<table border=\"1\" class=\"dataframe\">\n",
       "  <thead>\n",
       "    <tr style=\"text-align: right;\">\n",
       "      <th></th>\n",
       "      <th>dist</th>\n",
       "      <th>fare</th>\n",
       "      <th>trip_count</th>\n",
       "    </tr>\n",
       "  </thead>\n",
       "  <tbody>\n",
       "    <tr>\n",
       "      <th>0</th>\n",
       "      <td>0.0</td>\n",
       "      <td>6.599070</td>\n",
       "      <td>21452505</td>\n",
       "    </tr>\n",
       "    <tr>\n",
       "      <th>1</th>\n",
       "      <td>1.0</td>\n",
       "      <td>8.637107</td>\n",
       "      <td>28339607</td>\n",
       "    </tr>\n",
       "    <tr>\n",
       "      <th>2</th>\n",
       "      <td>2.0</td>\n",
       "      <td>12.212198</td>\n",
       "      <td>12901257</td>\n",
       "    </tr>\n",
       "    <tr>\n",
       "      <th>3</th>\n",
       "      <td>3.0</td>\n",
       "      <td>15.443046</td>\n",
       "      <td>6082367</td>\n",
       "    </tr>\n",
       "    <tr>\n",
       "      <th>4</th>\n",
       "      <td>4.0</td>\n",
       "      <td>18.258702</td>\n",
       "      <td>3302215</td>\n",
       "    </tr>\n",
       "    <tr>\n",
       "      <th>5</th>\n",
       "      <td>5.0</td>\n",
       "      <td>20.853578</td>\n",
       "      <td>2180951</td>\n",
       "    </tr>\n",
       "    <tr>\n",
       "      <th>6</th>\n",
       "      <td>6.0</td>\n",
       "      <td>23.368139</td>\n",
       "      <td>1537720</td>\n",
       "    </tr>\n",
       "    <tr>\n",
       "      <th>7</th>\n",
       "      <td>7.0</td>\n",
       "      <td>26.443811</td>\n",
       "      <td>1186792</td>\n",
       "    </tr>\n",
       "    <tr>\n",
       "      <th>8</th>\n",
       "      <td>8.0</td>\n",
       "      <td>28.761726</td>\n",
       "      <td>1114168</td>\n",
       "    </tr>\n",
       "    <tr>\n",
       "      <th>9</th>\n",
       "      <td>9.0</td>\n",
       "      <td>31.517287</td>\n",
       "      <td>1030230</td>\n",
       "    </tr>\n",
       "    <tr>\n",
       "      <th>10</th>\n",
       "      <td>10.0</td>\n",
       "      <td>34.989997</td>\n",
       "      <td>824148</td>\n",
       "    </tr>\n",
       "    <tr>\n",
       "      <th>11</th>\n",
       "      <td>11.0</td>\n",
       "      <td>36.720600</td>\n",
       "      <td>596862</td>\n",
       "    </tr>\n",
       "    <tr>\n",
       "      <th>12</th>\n",
       "      <td>12.0</td>\n",
       "      <td>39.857677</td>\n",
       "      <td>400165</td>\n",
       "    </tr>\n",
       "    <tr>\n",
       "      <th>13</th>\n",
       "      <td>13.0</td>\n",
       "      <td>43.429575</td>\n",
       "      <td>284891</td>\n",
       "    </tr>\n",
       "    <tr>\n",
       "      <th>14</th>\n",
       "      <td>14.0</td>\n",
       "      <td>45.778415</td>\n",
       "      <td>254585</td>\n",
       "    </tr>\n",
       "    <tr>\n",
       "      <th>15</th>\n",
       "      <td>15.0</td>\n",
       "      <td>48.470348</td>\n",
       "      <td>275883</td>\n",
       "    </tr>\n",
       "    <tr>\n",
       "      <th>16</th>\n",
       "      <td>16.0</td>\n",
       "      <td>51.682226</td>\n",
       "      <td>423952</td>\n",
       "    </tr>\n",
       "    <tr>\n",
       "      <th>17</th>\n",
       "      <td>17.0</td>\n",
       "      <td>53.027565</td>\n",
       "      <td>691350</td>\n",
       "    </tr>\n",
       "    <tr>\n",
       "      <th>18</th>\n",
       "      <td>18.0</td>\n",
       "      <td>53.205545</td>\n",
       "      <td>564740</td>\n",
       "    </tr>\n",
       "    <tr>\n",
       "      <th>19</th>\n",
       "      <td>19.0</td>\n",
       "      <td>53.985821</td>\n",
       "      <td>321512</td>\n",
       "    </tr>\n",
       "    <tr>\n",
       "      <th>20</th>\n",
       "      <td>20.0</td>\n",
       "      <td>55.147931</td>\n",
       "      <td>218141</td>\n",
       "    </tr>\n",
       "    <tr>\n",
       "      <th>21</th>\n",
       "      <td>21.0</td>\n",
       "      <td>55.902521</td>\n",
       "      <td>145818</td>\n",
       "    </tr>\n",
       "    <tr>\n",
       "      <th>22</th>\n",
       "      <td>22.0</td>\n",
       "      <td>59.072330</td>\n",
       "      <td>69640</td>\n",
       "    </tr>\n",
       "    <tr>\n",
       "      <th>23</th>\n",
       "      <td>23.0</td>\n",
       "      <td>65.894733</td>\n",
       "      <td>33496</td>\n",
       "    </tr>\n",
       "    <tr>\n",
       "      <th>24</th>\n",
       "      <td>24.0</td>\n",
       "      <td>70.548449</td>\n",
       "      <td>22701</td>\n",
       "    </tr>\n",
       "    <tr>\n",
       "      <th>25</th>\n",
       "      <td>25.0</td>\n",
       "      <td>73.064084</td>\n",
       "      <td>19368</td>\n",
       "    </tr>\n",
       "    <tr>\n",
       "      <th>26</th>\n",
       "      <td>26.0</td>\n",
       "      <td>74.243865</td>\n",
       "      <td>21241</td>\n",
       "    </tr>\n",
       "    <tr>\n",
       "      <th>27</th>\n",
       "      <td>27.0</td>\n",
       "      <td>72.522346</td>\n",
       "      <td>19389</td>\n",
       "    </tr>\n",
       "    <tr>\n",
       "      <th>28</th>\n",
       "      <td>28.0</td>\n",
       "      <td>68.414194</td>\n",
       "      <td>19525</td>\n",
       "    </tr>\n",
       "    <tr>\n",
       "      <th>29</th>\n",
       "      <td>29.0</td>\n",
       "      <td>76.761546</td>\n",
       "      <td>11048</td>\n",
       "    </tr>\n",
       "    <tr>\n",
       "      <th>30</th>\n",
       "      <td>30.0</td>\n",
       "      <td>88.728009</td>\n",
       "      <td>6675</td>\n",
       "    </tr>\n",
       "    <tr>\n",
       "      <th>31</th>\n",
       "      <td>31.0</td>\n",
       "      <td>101.962689</td>\n",
       "      <td>4723</td>\n",
       "    </tr>\n",
       "    <tr>\n",
       "      <th>32</th>\n",
       "      <td>32.0</td>\n",
       "      <td>109.924222</td>\n",
       "      <td>3797</td>\n",
       "    </tr>\n",
       "    <tr>\n",
       "      <th>33</th>\n",
       "      <td>33.0</td>\n",
       "      <td>113.752377</td>\n",
       "      <td>2936</td>\n",
       "    </tr>\n",
       "    <tr>\n",
       "      <th>34</th>\n",
       "      <td>34.0</td>\n",
       "      <td>115.053547</td>\n",
       "      <td>2763</td>\n",
       "    </tr>\n",
       "    <tr>\n",
       "      <th>35</th>\n",
       "      <td>35.0</td>\n",
       "      <td>120.153781</td>\n",
       "      <td>2761</td>\n",
       "    </tr>\n",
       "    <tr>\n",
       "      <th>36</th>\n",
       "      <td>36.0</td>\n",
       "      <td>121.582423</td>\n",
       "      <td>2819</td>\n",
       "    </tr>\n",
       "    <tr>\n",
       "      <th>37</th>\n",
       "      <td>37.0</td>\n",
       "      <td>125.667571</td>\n",
       "      <td>2268</td>\n",
       "    </tr>\n",
       "    <tr>\n",
       "      <th>38</th>\n",
       "      <td>38.0</td>\n",
       "      <td>129.230859</td>\n",
       "      <td>1874</td>\n",
       "    </tr>\n",
       "    <tr>\n",
       "      <th>39</th>\n",
       "      <td>39.0</td>\n",
       "      <td>137.514535</td>\n",
       "      <td>1398</td>\n",
       "    </tr>\n",
       "    <tr>\n",
       "      <th>40</th>\n",
       "      <td>40.0</td>\n",
       "      <td>144.451624</td>\n",
       "      <td>1090</td>\n",
       "    </tr>\n",
       "    <tr>\n",
       "      <th>41</th>\n",
       "      <td>41.0</td>\n",
       "      <td>147.676879</td>\n",
       "      <td>942</td>\n",
       "    </tr>\n",
       "    <tr>\n",
       "      <th>42</th>\n",
       "      <td>42.0</td>\n",
       "      <td>152.853345</td>\n",
       "      <td>822</td>\n",
       "    </tr>\n",
       "    <tr>\n",
       "      <th>43</th>\n",
       "      <td>43.0</td>\n",
       "      <td>159.098239</td>\n",
       "      <td>687</td>\n",
       "    </tr>\n",
       "    <tr>\n",
       "      <th>44</th>\n",
       "      <td>44.0</td>\n",
       "      <td>163.716088</td>\n",
       "      <td>708</td>\n",
       "    </tr>\n",
       "    <tr>\n",
       "      <th>45</th>\n",
       "      <td>45.0</td>\n",
       "      <td>164.625048</td>\n",
       "      <td>620</td>\n",
       "    </tr>\n",
       "    <tr>\n",
       "      <th>46</th>\n",
       "      <td>46.0</td>\n",
       "      <td>170.270962</td>\n",
       "      <td>582</td>\n",
       "    </tr>\n",
       "    <tr>\n",
       "      <th>47</th>\n",
       "      <td>47.0</td>\n",
       "      <td>178.831270</td>\n",
       "      <td>433</td>\n",
       "    </tr>\n",
       "    <tr>\n",
       "      <th>48</th>\n",
       "      <td>48.0</td>\n",
       "      <td>178.097657</td>\n",
       "      <td>414</td>\n",
       "    </tr>\n",
       "    <tr>\n",
       "      <th>49</th>\n",
       "      <td>49.0</td>\n",
       "      <td>176.414258</td>\n",
       "      <td>465</td>\n",
       "    </tr>\n",
       "  </tbody>\n",
       "</table>\n",
       "</div>"
      ],
      "text/plain": [
       "    dist        fare  trip_count\n",
       "0    0.0    6.599070    21452505\n",
       "1    1.0    8.637107    28339607\n",
       "2    2.0   12.212198    12901257\n",
       "3    3.0   15.443046     6082367\n",
       "4    4.0   18.258702     3302215\n",
       "5    5.0   20.853578     2180951\n",
       "6    6.0   23.368139     1537720\n",
       "7    7.0   26.443811     1186792\n",
       "8    8.0   28.761726     1114168\n",
       "9    9.0   31.517287     1030230\n",
       "10  10.0   34.989997      824148\n",
       "11  11.0   36.720600      596862\n",
       "12  12.0   39.857677      400165\n",
       "13  13.0   43.429575      284891\n",
       "14  14.0   45.778415      254585\n",
       "15  15.0   48.470348      275883\n",
       "16  16.0   51.682226      423952\n",
       "17  17.0   53.027565      691350\n",
       "18  18.0   53.205545      564740\n",
       "19  19.0   53.985821      321512\n",
       "20  20.0   55.147931      218141\n",
       "21  21.0   55.902521      145818\n",
       "22  22.0   59.072330       69640\n",
       "23  23.0   65.894733       33496\n",
       "24  24.0   70.548449       22701\n",
       "25  25.0   73.064084       19368\n",
       "26  26.0   74.243865       21241\n",
       "27  27.0   72.522346       19389\n",
       "28  28.0   68.414194       19525\n",
       "29  29.0   76.761546       11048\n",
       "30  30.0   88.728009        6675\n",
       "31  31.0  101.962689        4723\n",
       "32  32.0  109.924222        3797\n",
       "33  33.0  113.752377        2936\n",
       "34  34.0  115.053547        2763\n",
       "35  35.0  120.153781        2761\n",
       "36  36.0  121.582423        2819\n",
       "37  37.0  125.667571        2268\n",
       "38  38.0  129.230859        1874\n",
       "39  39.0  137.514535        1398\n",
       "40  40.0  144.451624        1090\n",
       "41  41.0  147.676879         942\n",
       "42  42.0  152.853345         822\n",
       "43  43.0  159.098239         687\n",
       "44  44.0  163.716088         708\n",
       "45  45.0  164.625048         620\n",
       "46  46.0  170.270962         582\n",
       "47  47.0  178.831270         433\n",
       "48  48.0  178.097657         414\n",
       "49  49.0  176.414258         465"
      ]
     },
     "execution_count": 20,
     "metadata": {},
     "output_type": "execute_result"
    }
   ],
   "source": [
    "%%time\n",
    "\n",
    "c.sql(\"\"\"\n",
    "    SELECT floor(trip_distance) AS dist, avg(fare_amount) as fare, count(1) as trip_count\n",
    "    FROM taxi_cached \n",
    "    WHERE trip_distance < 50 AND trip_distance >= 0 \n",
    "    GROUP BY floor(trip_distance)\n",
    "\"\"\").compute()"
   ]
  },
  {
   "cell_type": "markdown",
   "metadata": {},
   "source": [
    "> __Opportunity to contribute__\n",
    ">\n",
    "> If you look at the `dask-sql` docs, you'll notice that there aren't that many helper functions implemented yet. For example, most databases have several string-processing helper functions, and today `dask-sql` just has one.\n",
    ">\n",
    "> This is a great opportunity to add valuable functionality and contribute to the library, since implementing many of these functions is just a matter of finding the existing Dask function and hooking it up. \n",
    ">\n",
    "> There are a ton of functions we might want to add, but each one is small, so it's a great crowd-sourcing opportunity. You can see the existing implementations in https://github.com/nils-braun/dask-sql/blob/main/dask_sql/physical/rex/core/call.py\n",
    "\n",
    "\n",
    "### One more example: fast plotting from big data\n",
    "\n",
    "Since our results come back fast and as a Pandas dataframe, we can easily make visualizations. This pattern can help us approach near-real-time interactive data exploration and visualization.\n",
    "\n",
    "If you don't have `matplotlib` installed (e.g., today it's not built in to the Coiled quickstart notebook image) you can install it with this command:"
   ]
  },
  {
   "cell_type": "code",
   "execution_count": null,
   "metadata": {},
   "outputs": [],
   "source": [
    "# ! conda install -y matplotlib -c conda-forge"
   ]
  },
  {
   "cell_type": "markdown",
   "metadata": {},
   "source": [
    "And now we can run a query and immediately plot a visualization of the result using Pandas plotting syntax!"
   ]
  },
  {
   "cell_type": "code",
   "execution_count": 21,
   "metadata": {},
   "outputs": [
    {
     "data": {
      "text/plain": [
       "<AxesSubplot:xlabel='dist'>"
      ]
     },
     "execution_count": 21,
     "metadata": {},
     "output_type": "execute_result"
    },
    {
     "data": {
      "image/png": "[encoded data removed]",
      "text/plain": [
       "<Figure size 432x288 with 1 Axes>"
      ]
     },
     "metadata": {
      "needs_background": "light"
     },
     "output_type": "display_data"
    }
   ],
   "source": [
    "c.sql(\"\"\"\n",
    "    SELECT floor(trip_distance) AS dist, avg(fare_amount) as fare\n",
    "    FROM taxi_cached \n",
    "    WHERE trip_distance < 50 AND trip_distance >= 0 \n",
    "    GROUP BY floor(trip_distance)\n",
    "\"\"\").compute().plot(x='dist', y='fare')"
   ]
  },
  {
   "cell_type": "markdown",
   "metadata": {},
   "source": [
    "## A Peek Under the Hood\n",
    "\n",
    "### How does the technology fit together?\n",
    "\n",
    "`dask-sql` relies on the well-established Apache Calcite (https://calcite.apache.org/), a Java project, to\n",
    "* parse SQL\n",
    "* represent queries as a tree of operators\n",
    "* normalize and optimize queries\n",
    "    * Calcite's optimizer is extensible, so there are numerous \"plug points\" for adding more capabilities in the future\n",
    "\n",
    "That's a lot! What's left?\n",
    "\n",
    "The output from Calcite is a representation of a query as a tree of logical operators. These are things like __projections__ (think of them as abstractions of `SELECT`s) and __filters__ (abstractions of `WHERE`).\n",
    "\n",
    "The next job of `dask-sql` is to provide plugins that convert from purely abstract operators to logic that expresses that operation in terms of Dask APIs. The results are still logical operators, but a bit more concrete -- similar to what you would get if you wrote a Dask dataframe query yourself, so it's ready to execute on your Dask cluster. At execution time, Dask provides physical implementations of the operations, which vary depending, e.g., on how your data is stored.\n",
    "\n",
    "## Creating more opportunities\n",
    "\n",
    "Synergy is a cliche these days. But adding a SQL front-end to Dask enables a ton of new users and new uses cases to share state-of-the-art Python data solutions.\n",
    "\n",
    "For example, analysts and businesspeople who are fluent with SQL but don't write imperative code can now leverage Dask, PyData, Coiled, and so much more ... while collaborating with those who do prefer to code.\n",
    "\n",
    "Custom function support in `dask-sql` means coders can create simple wrappers around complex flows (e.g., applying a machine learning model to score records) and SQL users can create reports with those functions.\n",
    "\n",
    "Last, with database server capability via Presto (and perhaps soon JDBC, since Calcite includes JDBC support) it becomes possible to take a visualization solution like Tableau and point it at a Dask cluster for visual analytics at scale.\n",
    "\n",
    "##### Links:\n",
    "* Dask, Coiled and PyData https://coiled.io/blog/pydata-dask/\n",
    "* Dask SQL docs https://dask-sql.readthedocs.io/\n",
    "* Dask SQL source https://github.com/nils-braun/dask-sql\n",
    "* Apache Calcite https://calcite.apache.org/"
   ]
  },
  {
   "cell_type": "code",
   "execution_count": null,
   "metadata": {},
   "outputs": [],
   "source": []
  }
 ],
 "metadata": {
  "kernelspec": {
   "display_name": "Python 3",
   "language": "python",
   "name": "python3"
  },
  "language_info": {
   "codemirror_mode": {
    "name": "ipython",
    "version": 3
   },
   "file_extension": ".py",
   "mimetype": "text/x-python",
   "name": "python",
   "nbconvert_exporter": "python",
   "pygments_lexer": "ipython3",
   "version": "3.8.5"
  }
 },
 "nbformat": 4,
 "nbformat_minor": 4
}
